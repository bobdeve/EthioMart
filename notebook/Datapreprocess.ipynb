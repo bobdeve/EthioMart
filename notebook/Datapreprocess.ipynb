{
 "cells": [
  {
   "cell_type": "code",
   "execution_count": 1,
   "id": "63123ba0",
   "metadata": {},
   "outputs": [
    {
     "name": "stdout",
     "output_type": "stream",
     "text": [
      "Requirement already satisfied: pandas in c:\\users\\bob\\desktop\\10acadamy\\week-4\\.venv\\lib\\site-packages (2.3.0)\n",
      "Requirement already satisfied: regex in c:\\users\\bob\\desktop\\10acadamy\\week-4\\.venv\\lib\\site-packages (2024.11.6)\n",
      "Collecting nltk\n",
      "  Using cached nltk-3.9.1-py3-none-any.whl.metadata (2.9 kB)\n",
      "Requirement already satisfied: numpy>=1.26.0 in c:\\users\\bob\\desktop\\10acadamy\\week-4\\.venv\\lib\\site-packages (from pandas) (2.3.0)\n",
      "Requirement already satisfied: python-dateutil>=2.8.2 in c:\\users\\bob\\desktop\\10acadamy\\week-4\\.venv\\lib\\site-packages (from pandas) (2.9.0.post0)\n",
      "Requirement already satisfied: pytz>=2020.1 in c:\\users\\bob\\desktop\\10acadamy\\week-4\\.venv\\lib\\site-packages (from pandas) (2025.2)\n",
      "Requirement already satisfied: tzdata>=2022.7 in c:\\users\\bob\\desktop\\10acadamy\\week-4\\.venv\\lib\\site-packages (from pandas) (2025.2)\n",
      "Collecting click (from nltk)\n",
      "  Using cached click-8.2.1-py3-none-any.whl.metadata (2.5 kB)\n",
      "Requirement already satisfied: joblib in c:\\users\\bob\\desktop\\10acadamy\\week-4\\.venv\\lib\\site-packages (from nltk) (1.5.1)\n",
      "Requirement already satisfied: tqdm in c:\\users\\bob\\desktop\\10acadamy\\week-4\\.venv\\lib\\site-packages (from nltk) (4.67.1)\n",
      "Requirement already satisfied: six>=1.5 in c:\\users\\bob\\desktop\\10acadamy\\week-4\\.venv\\lib\\site-packages (from python-dateutil>=2.8.2->pandas) (1.17.0)\n",
      "Requirement already satisfied: colorama in c:\\users\\bob\\desktop\\10acadamy\\week-4\\.venv\\lib\\site-packages (from click->nltk) (0.4.6)\n",
      "Using cached nltk-3.9.1-py3-none-any.whl (1.5 MB)\n",
      "Using cached click-8.2.1-py3-none-any.whl (102 kB)\n",
      "Installing collected packages: click, nltk\n",
      "\n",
      "   ---------------------------------------- 0/2 [click]\n",
      "   -------------------- ------------------- 1/2 [nltk]\n",
      "   -------------------- ------------------- 1/2 [nltk]\n",
      "   -------------------- ------------------- 1/2 [nltk]\n",
      "   -------------------- ------------------- 1/2 [nltk]\n",
      "   -------------------- ------------------- 1/2 [nltk]\n",
      "   -------------------- ------------------- 1/2 [nltk]\n",
      "   -------------------- ------------------- 1/2 [nltk]\n",
      "   -------------------- ------------------- 1/2 [nltk]\n",
      "   -------------------- ------------------- 1/2 [nltk]\n",
      "   -------------------- ------------------- 1/2 [nltk]\n",
      "   -------------------- ------------------- 1/2 [nltk]\n",
      "   -------------------- ------------------- 1/2 [nltk]\n",
      "   -------------------- ------------------- 1/2 [nltk]\n",
      "   -------------------- ------------------- 1/2 [nltk]\n",
      "   -------------------- ------------------- 1/2 [nltk]\n",
      "   -------------------- ------------------- 1/2 [nltk]\n",
      "   -------------------- ------------------- 1/2 [nltk]\n",
      "   -------------------- ------------------- 1/2 [nltk]\n",
      "   -------------------- ------------------- 1/2 [nltk]\n",
      "   -------------------- ------------------- 1/2 [nltk]\n",
      "   -------------------- ------------------- 1/2 [nltk]\n",
      "   -------------------- ------------------- 1/2 [nltk]\n",
      "   -------------------- ------------------- 1/2 [nltk]\n",
      "   -------------------- ------------------- 1/2 [nltk]\n",
      "   -------------------- ------------------- 1/2 [nltk]\n",
      "   -------------------- ------------------- 1/2 [nltk]\n",
      "   -------------------- ------------------- 1/2 [nltk]\n",
      "   -------------------- ------------------- 1/2 [nltk]\n",
      "   -------------------- ------------------- 1/2 [nltk]\n",
      "   -------------------- ------------------- 1/2 [nltk]\n",
      "   -------------------- ------------------- 1/2 [nltk]\n",
      "   ---------------------------------------- 2/2 [nltk]\n",
      "\n",
      "Successfully installed click-8.2.1 nltk-3.9.1\n",
      "Note: you may need to restart the kernel to use updated packages.\n"
     ]
    }
   ],
   "source": [
    "pip install pandas regex nltk\n"
   ]
  },
  {
   "cell_type": "code",
   "execution_count": 2,
   "id": "f594e5e8",
   "metadata": {},
   "outputs": [
    {
     "name": "stdout",
     "output_type": "stream",
     "text": [
      "Collecting clean-text\n",
      "  Downloading clean_text-0.6.0-py3-none-any.whl.metadata (6.6 kB)\n",
      "Collecting emoji<2.0.0,>=1.0.0 (from clean-text)\n",
      "  Downloading emoji-1.7.0.tar.gz (175 kB)\n",
      "  Installing build dependencies: started\n",
      "  Installing build dependencies: finished with status 'done'\n",
      "  Getting requirements to build wheel: started\n",
      "  Getting requirements to build wheel: finished with status 'done'\n",
      "  Preparing metadata (pyproject.toml): started\n",
      "  Preparing metadata (pyproject.toml): finished with status 'done'\n",
      "Collecting ftfy<7.0,>=6.0 (from clean-text)\n",
      "  Downloading ftfy-6.3.1-py3-none-any.whl.metadata (7.3 kB)\n",
      "Requirement already satisfied: wcwidth in c:\\users\\bob\\desktop\\10acadamy\\week-4\\.venv\\lib\\site-packages (from ftfy<7.0,>=6.0->clean-text) (0.2.13)\n",
      "Downloading clean_text-0.6.0-py3-none-any.whl (11 kB)\n",
      "Downloading ftfy-6.3.1-py3-none-any.whl (44 kB)\n",
      "Building wheels for collected packages: emoji\n",
      "  Building wheel for emoji (pyproject.toml): started\n",
      "  Building wheel for emoji (pyproject.toml): finished with status 'done'\n",
      "  Created wheel for emoji: filename=emoji-1.7.0-py3-none-any.whl size=171142 sha256=6ddd1a32e2ee0e39cd632908d081dc1e04778ecdcacf1f6658a0debeb5c4818c\n",
      "  Stored in directory: c:\\users\\bob\\appdata\\local\\pip\\cache\\wheels\\d3\\57\\0a\\7c2016fa9e21548fec86eca8073b2f8d6d5db244c9ec06c1d9\n",
      "Successfully built emoji\n",
      "Installing collected packages: emoji, ftfy, clean-text\n",
      "\n",
      "   ---------------------------------------- 0/3 [emoji]\n",
      "   ------------- -------------------------- 1/3 [ftfy]\n",
      "   ---------------------------------------- 3/3 [clean-text]\n",
      "\n",
      "Successfully installed clean-text-0.6.0 emoji-1.7.0 ftfy-6.3.1\n",
      "Note: you may need to restart the kernel to use updated packages.\n"
     ]
    }
   ],
   "source": [
    "pip install clean-text\n"
   ]
  },
  {
   "cell_type": "code",
   "execution_count": 3,
   "id": "14984fac",
   "metadata": {},
   "outputs": [
    {
     "name": "stderr",
     "output_type": "stream",
     "text": [
      "[nltk_data] Downloading package punkt to\n",
      "[nltk_data]     C:\\Users\\Bob\\AppData\\Roaming\\nltk_data...\n",
      "[nltk_data]   Package punkt is already up-to-date!\n"
     ]
    },
    {
     "name": "stdout",
     "output_type": "stream",
     "text": [
      "✅ Text normalization & tokenization complete. Saved to telegram_data_cleaned.csv\n"
     ]
    }
   ],
   "source": [
    "import pandas as pd\n",
    "import re\n",
    "import string\n",
    "import nltk\n",
    "\n",
    "nltk.download('punkt')\n",
    "from nltk.tokenize import word_tokenize\n",
    "\n",
    "# Load data\n",
    "df = pd.read_csv('../data/telegram_data.csv', header=None, names=[\"sender\", \"timestamp\", \"text\"])\n",
    "\n",
    "# Basic Amharic text normalization function\n",
    "def normalize_amharic(text):\n",
    "    if not isinstance(text, str):\n",
    "        return \"\"\n",
    "    text = text.strip()\n",
    "    # Remove unnecessary punctuations and emojis\n",
    "    text = re.sub(r'[^\\u1200-\\u137F\\s]', '', text)  # Keep only Amharic chars and spaces\n",
    "    text = re.sub(r'\\s+', ' ', text)  # Remove extra spaces\n",
    "    return text\n",
    "\n",
    "# Tokenizer (Amharic words are often space-separated, but also could use more robust tools)\n",
    "def tokenize_amharic(text):\n",
    "    # Use NLTK word_tokenize or simple split\n",
    "    return text.split()\n",
    "\n",
    "# Preprocess entire dataset\n",
    "df['normalized'] = df['text'].apply(normalize_amharic)\n",
    "df['tokens'] = df['normalized'].apply(tokenize_amharic)\n",
    "\n",
    "# Optional: remove short or empty messages\n",
    "df = df[df['normalized'].str.len() > 5]\n",
    "\n",
    "# Save preprocessed data\n",
    "df.to_csv('../data/telegram_data_cleaned.csv', index=False, encoding='utf-8-sig')\n",
    "\n",
    "print(\"✅ Text normalization & tokenization complete. Saved to telegram_data_cleaned.csv\")\n"
   ]
  }
 ],
 "metadata": {
  "kernelspec": {
   "display_name": ".venv",
   "language": "python",
   "name": "python3"
  },
  "language_info": {
   "codemirror_mode": {
    "name": "ipython",
    "version": 3
   },
   "file_extension": ".py",
   "mimetype": "text/x-python",
   "name": "python",
   "nbconvert_exporter": "python",
   "pygments_lexer": "ipython3",
   "version": "3.13.3"
  }
 },
 "nbformat": 4,
 "nbformat_minor": 5
}
